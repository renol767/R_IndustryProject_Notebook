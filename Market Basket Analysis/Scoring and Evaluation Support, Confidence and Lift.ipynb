{
 "cells": [
  {
   "cell_type": "code",
   "execution_count": 1,
   "id": "58fcb555",
   "metadata": {},
   "outputs": [
    {
     "name": "stderr",
     "output_type": "stream",
     "text": [
      "Warning message:\n",
      "\"package 'arules' was built under R version 3.6.3\"Loading required package: Matrix\n",
      "Warning message:\n",
      "\"package 'Matrix' was built under R version 3.6.3\"\n",
      "Attaching package: 'arules'\n",
      "\n",
      "The following objects are masked from 'package:base':\n",
      "\n",
      "    abbreviate, write\n",
      "\n",
      "Loading required package: ggplot2\n",
      "\n",
      "Attaching package: 'plotly'\n",
      "\n",
      "The following object is masked from 'package:ggplot2':\n",
      "\n",
      "    last_plot\n",
      "\n",
      "The following object is masked from 'package:stats':\n",
      "\n",
      "    filter\n",
      "\n",
      "The following object is masked from 'package:graphics':\n",
      "\n",
      "    layout\n",
      "\n"
     ]
    }
   ],
   "source": [
    "library(arules)\n",
    "library(arulesViz)\n",
    "library(plotly)"
   ]
  },
  {
   "cell_type": "code",
   "execution_count": 2,
   "id": "8b8c341e",
   "metadata": {},
   "outputs": [],
   "source": [
    "transaksi <- read.transactions(file = \"Data_Transaksi.txt\", format=\"single\", sep=\"\\t\", cols=c(1,2), skip=1)"
   ]
  },
  {
   "cell_type": "markdown",
   "id": "ca4e7584",
   "metadata": {},
   "source": [
    "## Menghasilkan Rules dengan Parameter Support dan Confidence\n",
    "Pada bab sebelumnya, kita menghasilkan tiga rules dengan function apriori secara default tanpa parameter apapun. \n",
    "\n",
    "Padahal sebenarnya kita bisa memasukkan parameter tambahan berupa support dan confidence.\n",
    "\n",
    "Tanpa parameter tambahan tersebut, maka nilai minimum support adalah 0.1 dan minimum confidence adalah 0.8 sebagai filter dari function apriori.\n",
    "\n",
    "Berikut adalah perintah untuk menghasilkan kembali association rules dengan function apriori, tapi kali ini dengan tambahan parameter minimum support dan confidence masing-masing bernilai 0.1 dan 0.5.\n",
    "\n",
    "    apriori(transaksi,parameter = list(supp = 0.1, confidence = 0.5))"
   ]
  },
  {
   "cell_type": "code",
   "execution_count": 3,
   "id": "5cf38ac1",
   "metadata": {},
   "outputs": [
    {
     "name": "stdout",
     "output_type": "stream",
     "text": [
      "Apriori\n",
      "\n",
      "Parameter specification:\n",
      " confidence minval smax arem  aval originalSupport maxtime support minlen\n",
      "        0.5    0.1    1 none FALSE            TRUE       5     0.1      1\n",
      " maxlen target  ext\n",
      "     10  rules TRUE\n",
      "\n",
      "Algorithmic control:\n",
      " filter tree heap memopt load sort verbose\n",
      "    0.1 TRUE TRUE  FALSE TRUE    2    TRUE\n",
      "\n",
      "Absolute minimum support count: 1 \n",
      "\n",
      "set item appearances ...[0 item(s)] done [0.00s].\n",
      "set transactions ...[4 item(s), 10 transaction(s)] done [0.00s].\n",
      "sorting and recoding items ... [4 item(s)] done [0.00s].\n",
      "creating transaction tree ... done [0.00s].\n",
      "checking subsets of size 1 2 3 done [0.00s].\n",
      "writing ... [16 rule(s)] done [0.00s].\n",
      "creating S4 object  ... done [0.00s].\n"
     ]
    }
   ],
   "source": [
    "# Membuat Rules disini berbeda dari sebelumnya karena memakai nilai minimum support dan confidence\n",
    "# Jadi rules yang dihasilkan ada 16\n",
    "# apriori(transaksi,parameter = list(supp = 0.1, confidence = 0.5))\n",
    "\n",
    "# Simpan rules ke MDA\n",
    "mda <- apriori(transaksi,parameter = list(supp = 0.1, confidence = 0.5))"
   ]
  },
  {
   "cell_type": "markdown",
   "id": "30c09f97",
   "metadata": {},
   "source": [
    "## Inspeksi Rules Yang Dihasilkan\n",
    "Dengan pengetahuan kita dari bab sebelumnya, menggunakan function kita bisa menggali informasi detil dari rules dengan inspect.\n",
    "\n",
    "Tugas Praktek\n",
    "\n",
    "Tambahkan perintah pada code editor untuk menyimpan association rules ke dalam variable mba dan tampilkan isinya dengan function inspect.\n",
    "\n",
    "Jika semua berjalan lancar, hasilnya akan terlihat sebagai berikut.\n",
    "\n",
    "         lhs                     rhs         support confidence lift      \n",
    "    [1]  {}                   => {Pet Food}  0.5     0.5000000  1.0000000     \n",
    "    [2]  {}                   => {Sirup}     0.6     0.6000000  1.0000000     \n",
    "    [3]  {}                   => {Teh Celup} 0.8     0.8000000  1.0000000     \n",
    "    [4]  {Gula}               => {Sirup}     0.2     0.5000000  0.8333333     \n",
    "    [5]  {Gula}               => {Teh Celup} 0.3     0.7500000  0.9375000     \n",
    "    [6]  {Pet Food}           => {Sirup}     0.4     0.8000000  1.3333333     \n",
    "    [7]  {Sirup}              => {Pet Food}  0.4     0.6666667  1.3333333     \n",
    "    [8]  {Pet Food}           => {Teh Celup} 0.3     0.6000000  0.7500000     \n",
    "    [9]  {Sirup}              => {Teh Celup} 0.4     0.6666667  0.8333333     \n",
    "    [10] {Teh Celup}          => {Sirup}     0.4     0.5000000  0.8333333     \n",
    "    [11] {Gula,Pet Food}      => {Sirup}     0.1     1.0000000  1.6666667     \n",
    "    [12] {Gula,Sirup}         => {Pet Food}  0.1     0.5000000  1.0000000     \n",
    "    [13] {Gula,Sirup}         => {Teh Celup} 0.1     0.5000000  0.6250000     \n",
    "    [14] {Pet Food,Sirup}     => {Teh Celup} 0.2     0.5000000  0.6250000     \n",
    "    [15] {Pet Food,Teh Celup} => {Sirup}     0.2     0.6666667  1.1111111     \n",
    "    [16] {Sirup,Teh Celup}    => {Pet Food}  0.2     0.5000000  1.0000000 \n",
    "\n",
    "Terlihat dengan merubah parameter pada function apriori, kita mendapatkan jumlah rules yang berbeda.\n"
   ]
  },
  {
   "cell_type": "code",
   "execution_count": 4,
   "id": "f1c135f4",
   "metadata": {},
   "outputs": [
    {
     "name": "stdout",
     "output_type": "stream",
     "text": [
      "     lhs                     rhs         support confidence coverage lift     \n",
      "[1]  {}                   => {Pet Food}  0.5     0.5000000  1.0      1.0000000\n",
      "[2]  {}                   => {Sirup}     0.6     0.6000000  1.0      1.0000000\n",
      "[3]  {}                   => {Teh Celup} 0.8     0.8000000  1.0      1.0000000\n",
      "[4]  {Gula}               => {Sirup}     0.2     0.5000000  0.4      0.8333333\n",
      "[5]  {Gula}               => {Teh Celup} 0.3     0.7500000  0.4      0.9375000\n",
      "[6]  {Pet Food}           => {Sirup}     0.4     0.8000000  0.5      1.3333333\n",
      "[7]  {Sirup}              => {Pet Food}  0.4     0.6666667  0.6      1.3333333\n",
      "[8]  {Pet Food}           => {Teh Celup} 0.3     0.6000000  0.5      0.7500000\n",
      "[9]  {Sirup}              => {Teh Celup} 0.4     0.6666667  0.6      0.8333333\n",
      "[10] {Teh Celup}          => {Sirup}     0.4     0.5000000  0.8      0.8333333\n",
      "[11] {Gula,Pet Food}      => {Sirup}     0.1     1.0000000  0.1      1.6666667\n",
      "[12] {Gula,Sirup}         => {Pet Food}  0.1     0.5000000  0.2      1.0000000\n",
      "[13] {Gula,Sirup}         => {Teh Celup} 0.1     0.5000000  0.2      0.6250000\n",
      "[14] {Pet Food,Sirup}     => {Teh Celup} 0.2     0.5000000  0.4      0.6250000\n",
      "[15] {Pet Food,Teh Celup} => {Sirup}     0.2     0.6666667  0.3      1.1111111\n",
      "[16] {Sirup,Teh Celup}    => {Pet Food}  0.2     0.5000000  0.4      1.0000000\n",
      "     count\n",
      "[1]  5    \n",
      "[2]  6    \n",
      "[3]  8    \n",
      "[4]  2    \n",
      "[5]  3    \n",
      "[6]  4    \n",
      "[7]  4    \n",
      "[8]  3    \n",
      "[9]  4    \n",
      "[10] 4    \n",
      "[11] 1    \n",
      "[12] 1    \n",
      "[13] 1    \n",
      "[14] 2    \n",
      "[15] 2    \n",
      "[16] 2    \n"
     ]
    }
   ],
   "source": [
    "inspect(mda)"
   ]
  },
  {
   "cell_type": "markdown",
   "id": "a80e98a0",
   "metadata": {},
   "source": [
    "## Filter berdasarkan Lift\n",
    "\n",
    "Kita bisa melakukan filter terhadap metrik kualitas dari association rules: support, confidence dan lift dengan function subset. Function yang sama untuk melakukan filter terhadap lhs dan rhs.\n",
    "\n",
    "Bedanya adalah karena angka, maka untuk ketiga metrik tersebut kita gunakan operator perbandingan angka.\n",
    "Sebagai contoh, untuk melakukan filter terhadap objek mba dengan kondisi berikut:\n",
    "\n",
    "    •\tlhs atau rhs memiliki Teh Celup\n",
    "    •\tlift di atas 1\n",
    "maka perintahnya adalah sebagai berikut\n",
    "\n",
    "    subset(mba, (lhs %in% \"Teh Celup\" | rhs %in% \"Teh Celup\") & lift>1)\n",
    "\n",
    "Perhatikan untuk ekspresi lhs dan rhs ditutup dengan kurung sebelum digabungkan dengan kondisi lift.\n",
    "\n",
    "Hanya terdapat 1 rule sebagai hasil filter dan paket produk ini cukup menjanjikan, dimana Teh Celup menjadi komponen dari itemset di lhs."
   ]
  },
  {
   "cell_type": "code",
   "execution_count": 5,
   "id": "73184217",
   "metadata": {},
   "outputs": [
    {
     "name": "stdout",
     "output_type": "stream",
     "text": [
      "    lhs                     rhs     support confidence coverage lift     count\n",
      "[1] {Pet Food,Teh Celup} => {Sirup} 0.2     0.6666667  0.3      1.111111 2    \n"
     ]
    }
   ],
   "source": [
    "# lalu inspect dengan filter rhs dan lhs disini item nya teh celup, note | : Atau\n",
    "# Tambahkan lagi filter lift nya harus diatas 1\n",
    "inspect(subset(mda, (lhs %in% \"Teh Celup\" | rhs %in% \"Teh Celup\") & lift > 1))"
   ]
  },
  {
   "cell_type": "markdown",
   "id": "ce96eb65",
   "metadata": {},
   "source": [
    "## Rekomendasi - Filter dengan %ain%\n",
    "Operator %in% yang sebelumnya kita gunakan sudah efektif. Namun operator ini tidak cocok jika kita ingin melakukan filter itemset dengan logika AND. Artinya seluruh item harus muncul dalam itemset yang terpilih. Untuk keperluan tersebut, gunakan operator %ain%.\n",
    "\n",
    "Contoh subset yang menggunakan %ain% adalah sebagai berikut.\n",
    "\n",
    "    subset(mba, (lhs %ain% c(\"Pet Food\", \"Gula\" )))\n",
    "\n",
    "Dan ekspresi inilah menjadi kunci untuk membuat rekomendasi.\n",
    "\n",
    "Hanya terdapat 1 rule sebagai hasil filter, dan dengan lift di atas 1 dan support 0.1 (10%) rule ini bisa dianggap layak untuk meghasilkan rekomendasi item, yaitu Sirup.\n",
    "Jadi orang yang membeli Gula dan Pet Food, bisa ditawarin Sirup.\n"
   ]
  },
  {
   "cell_type": "code",
   "execution_count": 6,
   "id": "c3b6bd79",
   "metadata": {},
   "outputs": [
    {
     "name": "stdout",
     "output_type": "stream",
     "text": [
      "    lhs                rhs     support confidence coverage lift     count\n",
      "[1] {Gula,Pet Food} => {Sirup} 0.1     1          0.1      1.666667 1    \n"
     ]
    }
   ],
   "source": [
    "# Filter dengan %ain%, Filter ini tidak cocok jika kita ingin melakukan filter itemset dengan logika AND\n",
    "# Artinya seluruh item harus muncul dalam itemset yang terpilih untuk keperluah tersebut\n",
    "\n",
    "inspect(subset(mda, (lhs %ain% c(\"Pet Food\", \"Gula\"))))"
   ]
  },
  {
   "cell_type": "markdown",
   "id": "94afd0dc",
   "metadata": {},
   "source": [
    "## Visualisasi Rules dengan Graph\n",
    "Sejauh ini Anda telah menghasilkan rules dan mengerti bagaimana metrik kualitas dapat digunakan sebagai basis pemilihan rule.\n",
    "\n",
    "Namun ketika item semakin banyak, maka proses memilih berdasarkan angka-angka saja cukup merepotkan. Kadangkala visualisasi bisa sangat membantu analisa di proses ini.\n",
    "\n",
    "Jenis visualisasi cukup banyak, namun kita akan gunakan visualisasi bertipe graph yang terdapat pada package arulesViz – suatu package dengan visualisasi khusus untuk association rules."
   ]
  },
  {
   "cell_type": "code",
   "execution_count": 7,
   "id": "542610ff",
   "metadata": {},
   "outputs": [
    {
     "data": {
      "image/png": "[encoded data removed]",
      "text/plain": [
       "plot without title"
      ]
     },
     "metadata": {},
     "output_type": "display_data"
    }
   ],
   "source": [
    "# Visualisaskan dengan graph\n",
    "plot(subset(mda, lift > 1,1), method=\"graph\")"
   ]
  },
  {
   "cell_type": "markdown",
   "id": "cd5a6c03",
   "metadata": {},
   "source": [
    "Lingkaran disini adalah titik pertemuan (asosiasi) dari item-item yang ada, dimana terdapat tanda panah sebagai garis penghubungnya. Tiap Item disini berupa teks.\n",
    "\n",
    "Besarnya bulatan menunjukkan popularitas, dan intensitas warna menunjukkan lift. Terlihat disini Gula ke Sirup, dan Pet Food ke Sirup memiliki lift yang relatif tinggi tapi supportnya tidak terlalu besar.\n"
   ]
  },
  {
   "cell_type": "markdown",
   "id": "11f5b058",
   "metadata": {},
   "source": [
    "## Kesimpulan\n",
    "\n",
    "Dengan rangkaian praktek yang telah kita lakukan sejauh ini, Anda telah menyelesaikan dasar penggunaan algoritma apriori untuk membantu di bidang retail.\n",
    "\n",
    "Sepanjang course ini kita telah mendapatkan beberapa keterampilan hal berikut:\n",
    "\n",
    "    •\tpersiapan data transaksi, dengan membaca file dalam bentuk csv dalam format data.frame dan transaction.\n",
    "    •\tmenganalisa statistik yang terkait dengan item dan itemset.\n",
    "    •\tmenghasilkan rule dan mencari itemset terbaik di rule - ini menjadi model untuk paket produk yang baik.\n",
    "\n",
    "Tiga keterampilan penting ini siap menjadi modal Anda sebagai data scientist untuk berkontribusi meningkatkan omset penjualan di perusahaan ritel.\n"
   ]
  }
 ],
 "metadata": {
  "kernelspec": {
   "display_name": "R",
   "language": "R",
   "name": "ir"
  },
  "language_info": {
   "codemirror_mode": "r",
   "file_extension": ".r",
   "mimetype": "text/x-r-source",
   "name": "R",
   "pygments_lexer": "r",
   "version": "3.6.1"
  }
 },
 "nbformat": 4,
 "nbformat_minor": 5
}
