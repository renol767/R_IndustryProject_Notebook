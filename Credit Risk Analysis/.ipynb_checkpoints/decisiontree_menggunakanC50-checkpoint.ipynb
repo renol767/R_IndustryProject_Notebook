{
 "cells": [
  {
   "cell_type": "markdown",
   "id": "a1437508",
   "metadata": {},
   "source": [
    "## Contoh Pemodelan Decision Tree dengan Machine Learning\n",
    "\n",
    "Mari sekarang kita lihat contoh otomatisasi model decision tree dengan menggunakan salah satu algoritma populer di R, yaitu C5.0. Praktek kali ini kita hanya bertujuan untuk melihat contoh output, detilnya akan dibahas pada bab-bab selanjutnya.\n",
    "\n",
    "Pada code editor telah diberikan contoh code untuk membaca dan menganalisa data credit rating dari file Excel, membentuk model decision tree, dan menampilkan hasilnya dalam bentuk output. Untuk itu kita perlu gunakan package C50 yang akan kita gunakan sepanjang course ini.\n",
    "\n",
    "Cobalah jalankan code tersebut dengan tombol Run, dan jika berjalan dengan lancar maka akan mendapatkan potongan hasil berikut.\n",
    "\n",
    "Read 900 cases (4 attributes) from undefined.data\n",
    "\n",
    "    Decision tree:\n",
    "\n",
    "    jumlah_tanggungan > 4:\n",
    "\n",
    "    :...durasi_pinjaman_bulan <= 24: 4 (112/30)\n",
    "\n",
    "    :   durasi_pinjaman_bulan > 24: 5 (140/55)\n",
    "\n",
    "    jumlah_tanggungan <= 4:\n",
    "\n",
    "    :...jumlah_tanggungan > 2: 3 (246/22)\n",
    "        jumlah_tanggungan <= 2:\n",
    "        :...durasi_pinjaman_bulan <= 36: 1 (294/86)\n",
    "            durasi_pinjaman_bulan > 36:\n",
    "            :...jumlah_tanggungan <= 0: 2 (41/8)\n",
    "                jumlah_tanggungan > 0: 3 (67/4)\n",
    " \n",
    "Ini adalah bentuk representasi tree dalam bentuk teks. Dimana pengecekan akan dimulai dari variable jumlah_tanggungan. Sebagai contoh, jika jumlah tanggungan lebih dari 4 dan durasi pinjaman sampai dengan maksimal 24 bulan maka rating diberikan nilai 4."
   ]
  },
  {
   "cell_type": "code",
   "execution_count": 1,
   "id": "0f62142d",
   "metadata": {},
   "outputs": [
    {
     "name": "stderr",
     "output_type": "stream",
     "text": [
      "Warning message:\n",
      "\"package 'openxlsx' was built under R version 3.6.3\"Warning message:\n",
      "\"package 'C50' was built under R version 3.6.3\""
     ]
    }
   ],
   "source": [
    "# C 50 atau dikenal Algoritma 5.0\n",
    "library(\"openxlsx\")\n",
    "library(\"C50\")"
   ]
  },
  {
   "cell_type": "code",
   "execution_count": 2,
   "id": "10443a24",
   "metadata": {},
   "outputs": [],
   "source": [
    "#Mempersiapkan data\n",
    "dataCreditRating <- read.xlsx(xlsxFile = \"credit_scoring_dqlab.xlsx\")\n",
    "dataCreditRating$risk_rating <- as.factor(dataCreditRating$risk_rating) "
   ]
  },
  {
   "cell_type": "code",
   "execution_count": 3,
   "id": "4270f4b5",
   "metadata": {},
   "outputs": [
    {
     "data": {
      "text/plain": [
       "\n",
       "Call:\n",
       "C5.0.default(x = datafeed, y = as.factor(dataCreditRating$risk_rating))\n",
       "\n",
       "\n",
       "C5.0 [Release 2.07 GPL Edition]  \tMon Oct 18 09:56:13 2021\n",
       "-------------------------------\n",
       "\n",
       "Class specified by attribute `outcome'\n",
       "\n",
       "Read 900 cases (4 attributes) from undefined.data\n",
       "\n",
       "Decision tree:\n",
       "\n",
       "jumlah_tanggungan > 4:\n",
       ":...durasi_pinjaman_bulan <= 24: 4 (112/30)\n",
       ":   durasi_pinjaman_bulan > 24: 5 (140/55)\n",
       "jumlah_tanggungan <= 4:\n",
       ":...jumlah_tanggungan > 2: 3 (246/22)\n",
       "    jumlah_tanggungan <= 2:\n",
       "    :...durasi_pinjaman_bulan <= 36: 1 (294/86)\n",
       "        durasi_pinjaman_bulan > 36:\n",
       "        :...jumlah_tanggungan <= 0: 2 (41/8)\n",
       "            jumlah_tanggungan > 0: 3 (67/4)\n",
       "\n",
       "\n",
       "Evaluation on training data (900 cases):\n",
       "\n",
       "\t    Decision Tree   \n",
       "\t  ----------------  \n",
       "\t  Size      Errors  \n",
       "\n",
       "\t     6  205(22.8%)   <<\n",
       "\n",
       "\n",
       "\t   (a)   (b)   (c)   (d)   (e)    <-classified as\n",
       "\t  ----  ----  ----  ----  ----\n",
       "\t   208     2     5     6     6    (a): class 1\n",
       "\t    86    33    21     6    13    (b): class 2\n",
       "\t           4   287                (c): class 3\n",
       "\t           2          82    36    (d): class 4\n",
       "\t                      18    85    (e): class 5\n",
       "\n",
       "\n",
       "\tAttribute usage:\n",
       "\n",
       "\t100.00%\tjumlah_tanggungan\n",
       "\t 72.67%\tdurasi_pinjaman_bulan\n",
       "\n",
       "\n",
       "Time: 0.0 secs\n"
      ]
     },
     "metadata": {},
     "output_type": "display_data"
    }
   ],
   "source": [
    "#Menggunakan C5.0\n",
    "drop_columns <- c(\"kpr_aktif\", \"pendapatan_setahun_juta\", \"risk_rating\", \"rata_rata_overdue\")\n",
    "datafeed <- dataCreditRating[ , !(names(dataCreditRating) %in% drop_columns)]\n",
    "modelKu <- C5.0(datafeed, as.factor(dataCreditRating$risk_rating))\n",
    "summary(modelKu)"
   ]
  },
  {
   "cell_type": "markdown",
   "id": "d469d0c8",
   "metadata": {},
   "source": [
    "## Kesimpulan\n",
    "\n",
    "Decision tree adalah struktur model untuk pengambilan keputusan dimana kita mengikuti alur dari suatu titik awal (yang disebut root node), kondisi-kondisi berikutnya, sampai mencapai kesimpulan.\n",
    "\n",
    "Komponen-komponen dari decision tree ini adalah sebagai berikut:\n",
    "    \n",
    "    •\tRoot node\n",
    "    •\tBranch atau split\n",
    "    •\tNode\n",
    "    •\tLeaf node\n",
    "\n",
    "Ini adalah model output yang cocok dihasilkan para analis untuk membantu mengidentifikasi risk rating. Dan beruntungnya, model ini bisa otomatis dihasilkan dari algoritma machine learning dengan input data historis credit. Dan ini telah ditunjukkan dengan contoh menggunakan algoritma bernama C5.0.\n",
    "Bab berikutnya akan membahas mengenai algoritma C5.0 ini. Klik tombol Next untuk melanjutkan.\n"
   ]
  },
  {
   "cell_type": "code",
   "execution_count": null,
   "id": "82d368ac",
   "metadata": {},
   "outputs": [],
   "source": []
  }
 ],
 "metadata": {
  "kernelspec": {
   "display_name": "R",
   "language": "R",
   "name": "ir"
  },
  "language_info": {
   "codemirror_mode": "r",
   "file_extension": ".r",
   "mimetype": "text/x-r-source",
   "name": "R",
   "pygments_lexer": "r",
   "version": "3.6.1"
  }
 },
 "nbformat": 4,
 "nbformat_minor": 5
}
